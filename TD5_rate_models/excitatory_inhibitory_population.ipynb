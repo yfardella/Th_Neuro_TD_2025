{
 "cells": [
  {
   "cell_type": "markdown",
   "id": "182d8b2d",
   "metadata": {},
   "source": [
    "# Homogeneous Excitatory and Inhibitory Population"
   ]
  },
  {
   "cell_type": "markdown",
   "id": "2dfe9b17",
   "metadata": {},
   "source": [
    "The goal of this notebook if to study the stability and behavior of a simple EI model. The equations describing the dynamics of the firing rates are\n",
    "\\begin{align}\n",
    "    \\tau_E \\frac{d\\nu_E}{dt}(t) &= -\\nu_E + \\left[M_{EE}\\nu_E + M_{IE}\\nu_I - \\gamma_E \\right]_{+},\\\\\n",
    "    \\tau_I \\frac{d\\nu_I}{dt}(t) &= -\\nu_I + \\left[M_{EI}\\nu_E + M_{II}\\nu_I - \\gamma_I \\right]_{+},\n",
    "\\end{align}\n",
    "where $\\left[\\cdots\\right]_{+}$ represents the linear threshold function (or ReLU).\n",
    "\n",
    "In this exercise, we consider the case where $M_{EE} = 1.25$, $M_{IE} = 1$, $M_{II} = 0$, $M_{EI} = -1$, $\\gamma_E=-10$ Hz and $\\gamma_I=10$ Hz with $\\tau_I$ still varying. It is inspired by the [(Theoretical Neuroscience, 2005)](https://boulderschool.yale.edu/sites/default/files/files/DayanAbbott.pdf) book from Peter Dayan and L.F. Abbott."
   ]
  },
  {
   "cell_type": "code",
   "execution_count": 71,
   "id": "cf852ccd",
   "metadata": {},
   "outputs": [],
   "source": [
    "import numpy as np\n",
    "import math as math\n",
    "import tqdm as tqdm\n",
    "import matplotlib.pyplot as plt\n",
    "from decimal import Decimal as D # modulo operator for decimal numbers\n",
    "\n",
    "np.random.seed(42)\n",
    "\n",
    "# Figure properties\n",
    "fig_width = 10\n",
    "fig_height = 6\n",
    "plt.rcParams['figure.figsize'] = [fig_width,fig_height]\n",
    "plt.rcParams['figure.autolayout'] = True\n",
    "plt.rcParams['font.size'] = 16#9\n",
    "plt.rcParams['legend.fontsize'] = 12#7.\n",
    "plt.rcParams['lines.markersize'] = 5\n",
    "plt.rcParams['axes.labelsize'] = 16#9\n",
    "plt.rcParams['axes.labelpad'] = 10\n",
    "plt.rcParams['axes.linewidth'] = '0.4'\n",
    "plt.rcParams['font.serif'] = 'Helvetica'\n",
    "MEE, MIE, MII, MEI, gammaE, gammaI, tauE, taui = 1.25, 1, -0., -1, -10, 10, 10, 20"
   ]
  },
  {
   "cell_type": "markdown",
   "id": "89a188b0",
   "metadata": {},
   "source": [
    "## Nullclines"
   ]
  },
  {
   "cell_type": "code",
   "execution_count": null,
   "id": "fbd61760",
   "metadata": {},
   "outputs": [],
   "source": [
    "# Plot the nullclines\n",
    "t = np.linspace(0, 50, 50)\n",
    "plt.figure(figsize=(5,5))\n",
    "plt.plot(t, ___, label=r'$\\frac{d\\nu_E}{dt} = 0$')# ___ \n",
    "plt.plot(___, t, label=r'$\\frac{d\\nu_I}{dt} = 0$')# ___\n",
    "plt.xlim(0, 50)\n",
    "plt.ylim(0, 50)\n",
    "plt.legend(fontsize=16)\n",
    "plt.ylabel(r'$\\nu_I$ (Hz)')\n",
    "plt.xlabel(r'$\\nu_E$ (Hz)')\n",
    "plt.show()"
   ]
  },
  {
   "cell_type": "markdown",
   "id": "b81502c7",
   "metadata": {},
   "source": [
    "## Fixed point stability and Hopf bifurcation"
   ]
  },
  {
   "cell_type": "markdown",
   "id": "ae0d0e08",
   "metadata": {},
   "source": [
    "Plot the evolution of the firing rates for $\\tau_I=30$ Hz"
   ]
  },
  {
   "cell_type": "code",
   "execution_count": null,
   "id": "82b3bef7",
   "metadata": {},
   "outputs": [],
   "source": [
    "def fig1a(taui):\n",
    "    time = np.linspace(0, 2500, 1200*100)\n",
    "    dt = time[1]\n",
    "    \n",
    "    nu_E, nu_I = [25], [25] \n",
    "    for t in time :\n",
    "        nu_E.append()# ___\n",
    "        nu_I.append()# ___\n",
    "    return np.array(nu_E), np.array(nu_I)\n",
    "\n",
    "nu_E, nu_I = fig1a(30)\n",
    "# Figure 1A\n",
    "plt.figure(figsize=(10.5,2.8))\n",
    "plt.plot(np.linspace(0, 1200, 1200*100+1), nu_E, label=r'$\\nu_E$')\n",
    "plt.plot(np.linspace(0, 1200, 1200*100+1), nu_I, linestyle='--', label=r'$\\nu_I$')\n",
    "plt.legend()\n",
    "plt.xlabel('Time (ms)')\n",
    "plt.ylabel(r'$\\nu$ (Hz)')"
   ]
  },
  {
   "cell_type": "markdown",
   "id": "099d8333",
   "metadata": {},
   "source": [
    "Plot the phase-plane trajectory"
   ]
  },
  {
   "cell_type": "code",
   "execution_count": null,
   "id": "03d28780",
   "metadata": {},
   "outputs": [],
   "source": [
    "plt.figure(figsize=(5,5))\n",
    "plt.plot()# ___ \n",
    "plt.xlim(0, 100)\n",
    "plt.ylim(0, 100)\n",
    "plt.ylabel(r'$\\nu_I$ (Hz)')\n",
    "plt.xlabel(r'$\\nu_E$ (Hz)')\n",
    "plt.show()"
   ]
  },
  {
   "cell_type": "markdown",
   "id": "3aa65058",
   "metadata": {},
   "source": [
    "Plot the evolution of the firing rates for $\\tau_I=50$ Hz"
   ]
  },
  {
   "cell_type": "code",
   "execution_count": null,
   "id": "b81f875e",
   "metadata": {},
   "outputs": [],
   "source": [
    "nu_E, nu_I = fig1a() # ___ \n",
    "# Figure 1B\n",
    "plt.figure(figsize=(10.5,2.8))\n",
    "plt.plot(np.linspace(0, 1200, 1200*100+1), nu_E, label=r'$\\nu_E$')\n",
    "plt.plot(np.linspace(0, 1200, 1200*100+1), nu_I, linestyle='--', label=r'$\\nu_I$')\n",
    "plt.legend()\n",
    "plt.xlabel('Time (ms)')\n",
    "plt.ylabel(r'$\\nu$ (Hz)')"
   ]
  },
  {
   "cell_type": "markdown",
   "id": "802fe856",
   "metadata": {},
   "source": [
    "Plot the phase-plane trajectory"
   ]
  },
  {
   "cell_type": "code",
   "execution_count": null,
   "id": "e3b7ba46",
   "metadata": {},
   "outputs": [],
   "source": [
    "plt.figure(figsize=(5, 5))\n",
    "plt.plot(, )# ___ \n",
    "plt.xlim(-1, 100)\n",
    "plt.ylim(0, 100)\n",
    "plt.ylabel(r'$\\nu_I$ (Hz)')\n",
    "plt.xlabel(r'$\\nu_E$ (Hz)')\n",
    "plt.show()"
   ]
  },
  {
   "cell_type": "markdown",
   "id": "1b60fe2a",
   "metadata": {},
   "source": [
    "Relaxation for initial conditions outside of the limit cyle"
   ]
  },
  {
   "cell_type": "code",
   "execution_count": null,
   "id": "a2872de1",
   "metadata": {},
   "outputs": [],
   "source": [
    "def fig2(taui):\n",
    "    time = np.linspace(0, 2500, 1200*100)\n",
    "    dt = time[1]\n",
    "    \n",
    "    nu_E, nu_I = [50], [60] \n",
    "    for t in time :\n",
    "        nu_E.append()# ___ \n",
    "        nu_I.append()# ___ \n",
    "    return np.array(nu_E), np.array(nu_I)\n",
    "\n",
    "nu_E, nu_I = fig2(50)\n",
    "# Figure 2\n",
    "plt.figure(figsize=(10.5,2.8))\n",
    "plt.plot(np.linspace(0, 1200, 1200*100+1), nu_E, label=r'$\\nu_E$')\n",
    "plt.plot(np.linspace(0, 1200, 1200*100+1), nu_I, linestyle='--', label=r'$\\nu_I$')\n",
    "plt.legend()\n",
    "plt.xlabel('Time (ms)')\n",
    "plt.ylabel(r'$\\nu$ (Hz)')"
   ]
  },
  {
   "cell_type": "code",
   "execution_count": null,
   "id": "3a906e30",
   "metadata": {},
   "outputs": [],
   "source": [
    "plt.figure(figsize=(5,5))\n",
    "plt.plot()# ___ \n",
    "plt.xlim(-1, 100)\n",
    "plt.ylim(0, 100)\n",
    "plt.ylabel(r'$\\nu_I$ (Hz)')\n",
    "plt.xlabel(r'$\\nu_E$ (Hz)')\n",
    "plt.show()"
   ]
  },
  {
   "cell_type": "code",
   "execution_count": null,
   "id": "30f461a2",
   "metadata": {},
   "outputs": [],
   "source": []
  }
 ],
 "metadata": {
  "kernelspec": {
   "display_name": ".venv",
   "language": "python",
   "name": "python3"
  },
  "language_info": {
   "codemirror_mode": {
    "name": "ipython",
    "version": 3
   },
   "file_extension": ".py",
   "mimetype": "text/x-python",
   "name": "python",
   "nbconvert_exporter": "python",
   "pygments_lexer": "ipython3",
   "version": "3.12.3"
  }
 },
 "nbformat": 4,
 "nbformat_minor": 5
}
