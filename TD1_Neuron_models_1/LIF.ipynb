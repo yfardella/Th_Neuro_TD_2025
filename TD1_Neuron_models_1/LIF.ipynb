{
 "cells": [
  {
   "cell_type": "markdown",
   "id": "e2aeeb58-c76f-4e27-83d7-ce3879e8ce5b",
   "metadata": {},
   "source": [
    "**Exercise: complete all the missing lines (denoted #___ ) in the code.**"
   ]
  },
  {
   "cell_type": "markdown",
   "id": "68f256c4-4479-48de-b252-d8220049b786",
   "metadata": {},
   "source": [
    "# Leaky integrate-and-fire neurons"
   ]
  },
  {
   "cell_type": "markdown",
   "id": "a5c3b8c5-9c01-4ce6-b25d-8a9567d036e3",
   "metadata": {},
   "source": [
    "The LIF model describes a neuron's voltage dynamics through the ODE \n",
    "\n",
    "$$ \\tau_m \\frac{dV(t)}{dt} = E_l-V(t) + \\frac{I}{g_l}, \\text{ if } V > V_{th} \\text{ then } V=V_{reset}, $$\n",
    "\n",
    "with $V$ the membrane potential, $\\tau_m$ the membrane time constant, $E_l$ the leak potential, $g_l$ the leak conductance and $I$ a constant applied current."
   ]
  },
  {
   "cell_type": "markdown",
   "id": "5373beac-478b-4e70-9c2f-0dd271cab468",
   "metadata": {},
   "source": [
    "We begin by importing the necessary libraries:"
   ]
  },
  {
   "cell_type": "code",
   "execution_count": 2,
   "id": "dfcebb16-96ca-400b-a47c-024f147c1544",
   "metadata": {},
   "outputs": [],
   "source": [
    "# Import libraries\n",
    "import matplotlib.pyplot as plt\n",
    "import numpy as np\n",
    "import warnings\n",
    "warnings.filterwarnings('ignore')\n",
    "\n",
    "plt.logging.getLogger('matplotlib.font_manager').disabled = True\n",
    "\n",
    "c = colors = plt.cm.plasma(np.linspace(0,1,6))\n",
    "\n",
    "plt.rc('font', size=12)          # controls default text sizes\n",
    "plt.rc('axes', titlesize=16)     # fontsize of the axes title\n",
    "plt.rc('axes', labelsize=14)     # fontsize of the axes labels\n",
    "plt.rc('xtick', labelsize=14)    # fontsize of the tick labels\n",
    "plt.rc('ytick', labelsize=14)    # fontsize of the tick labels\n",
    "plt.rc('legend', fontsize=12)    # legend fontsize\n",
    "plt.rc('figure', titlesize=16)   # fontsize of the figure title\n",
    "plt.rc('lines', linewidth=2)     # linewidths of all plots set to 2\n",
    "\n",
    "%matplotlib inline"
   ]
  },
  {
   "cell_type": "markdown",
   "id": "bb1d9049-f986-4c73-8fe8-b62fed0e24cc",
   "metadata": {},
   "source": [
    "And setting the constants:"
   ]
  },
  {
   "cell_type": "code",
   "execution_count": 3,
   "id": "c865d938-dcd6-4874-8bc5-8bd601bf7662",
   "metadata": {},
   "outputs": [],
   "source": [
    "# General constants\n",
    "Cm, gl, El = 100, 10, -70\n",
    "taum = Cm/gl\n",
    "Vr, Vth = -80, -50"
   ]
  },
  {
   "cell_type": "markdown",
   "id": "10ee10ad-05d9-4a89-aefe-3c48cec61a55",
   "metadata": {},
   "source": [
    "## Modeling a LIF neuron"
   ]
  },
  {
   "cell_type": "markdown",
   "id": "d088a003-155e-4350-a711-de250dc9fe63",
   "metadata": {},
   "source": [
    "The code below models and plots the evolution of a LIF neuron's membrane potential injected with various constant input current over $100$ms. Try changing the input current value $I$ to see how it affects the neuron's behaviour. Try also changing the time step $dt$ to see how it influences the numerical result. "
   ]
  },
  {
   "cell_type": "code",
   "execution_count": 4,
   "id": "b8e560f3-adb1-442e-8279-e79dc58c0634",
   "metadata": {},
   "outputs": [
    {
     "data": {
      "image/png": "[encoded data removed]",
      "text/plain": [
       "<Figure size 1200x200 with 1 Axes>"
      ]
     },
     "metadata": {},
     "output_type": "display_data"
    }
   ],
   "source": [
    "# LIF ODE\n",
    "def df(x, I):\n",
    "    return #___\n",
    "\n",
    "# Euler scheme\n",
    "def euler(x, I):\n",
    "    return #___\n",
    "\n",
    "# Time step\n",
    "dt = #___\n",
    "\n",
    "# Initial conditions\n",
    "V0 = Vr\n",
    "V, time = [V0], [0]\n",
    "\n",
    "# Ith computed in the tutorial\n",
    "Ith = gl*(Vth-El)\n",
    "\n",
    "# Input current\n",
    "I = Ith + 20\n",
    "\n",
    "# Maximum simulation time\n",
    "max_time = 100\n",
    "\n",
    "for i in range(int(max_time/dt)-1):\n",
    "    V_next = #___\n",
    "\n",
    "    # If V above threshold, reset\n",
    "    if V_next > Vth: \n",
    "        V_next = #___ \n",
    "        \n",
    "        # Creating the spike\n",
    "        V.append(Vth+20) \n",
    "        time.append(i*dt)  \n",
    "        \n",
    "    V.append(V_next)\n",
    "    time.append(i*dt)\n",
    "\n",
    "# Plot the neuron's voltage from t0=0 to T=100\n",
    "plt.figure(figsize=(12,2))\n",
    "plt.title('LIF neuron')\n",
    "plt.xlabel('time (ms)')\n",
    "plt.ylabel('voltage')\n",
    "plt.plot(time, V, label='V(t)', c=c[0])\n",
    "plt.legend()\n",
    "plt.show()"
   ]
  },
  {
   "cell_type": "markdown",
   "id": "9c12e880-efdb-445f-854e-19a971981e91",
   "metadata": {},
   "source": [
    "## $fI$ curve"
   ]
  },
  {
   "cell_type": "markdown",
   "id": "179f7029-dd6d-4ff7-b467-3e07d637efc1",
   "metadata": {},
   "source": [
    "The code below plots the f-I curve determined during the tutorial. We will plot it against the f-I curve obtained through simulations to compare.\n",
    "The theoretical f-I curve is given by $f(I_{app}) = 1/T_{ISI}$ with\n",
    "$$T_{ISI} = -\\tau_m \\log\\left( \\frac{V_m^{ss}-V_{th}}{V_m^{ss}-V_{reset}} \\right) = -\\tau_m \\log \\left( \\frac{E_l + I_{app}/g_l - V_{th}}{E_l + I_{app}/g_l - V_{reset}} \\right). $$"
   ]
  },
  {
   "cell_type": "code",
   "execution_count": null,
   "id": "c35edbc3-1588-442d-935d-bd2167df32f8",
   "metadata": {},
   "outputs": [],
   "source": [
    "''' Theoretical fI curve '''\n",
    "I = np.linspace(Ith-10,Ith+40,1000)\n",
    "Vss = El + I/gl\n",
    "Tisi = #___\n",
    "f = #___\n",
    "\n",
    "# Remove impossible values\n",
    "f[np.isnan(f)]=0\n",
    "\n",
    "# Plot theoretical f-I curve\n",
    "plt.figure(figsize=(8,4))\n",
    "plt.plot(I, f, c=c[0], label='analytical')\n",
    "\n",
    "''' Numerical fI curve '''\n",
    "# Maximum simulation time\n",
    "max_time = 1000\n",
    "\n",
    "# Range of inputs\n",
    "Iapp = np.linspace(Ith-10,Ith+40,20)\n",
    "\n",
    "# Empty list to store spikes\n",
    "spikes = []\n",
    "\n",
    "dt = 0.01\n",
    "# For loop\n",
    "for I in Iapp:\n",
    "    \n",
    "    # Initial conditions\n",
    "    V0 = Vr\n",
    "    V, time = [V0], [0]\n",
    "    spike_count = 0\n",
    "\n",
    "    # Usual simulation loop\n",
    "    for i in range(int(max_time/dt)+1):\n",
    "        V_next = #___\n",
    "    \n",
    "        # If V above threshold, reset\n",
    "        if V_next > Vth: \n",
    "            V_next = #___ \n",
    "            spike_count += #___\n",
    "            \n",
    "        V.append(V_next)\n",
    "    spikes.append(spike_count)\n",
    "\n",
    "# Converting list to array\n",
    "spikes = np.array(spikes)\n",
    "FR = spikes/max_time\n",
    "\n",
    "# Plot numerical f-I curve\n",
    "plt.scatter(Iapp, FR, c=c[2], label=\"simulated\")\n",
    "\n",
    "# Plotting parameters\n",
    "plt.title('$f-I$ curve analytical vs simulated')\n",
    "plt.xlabel('input $I$')\n",
    "plt.ylabel('frequency $f$')\n",
    "plt.legend()\n",
    "plt.show()"
   ]
  },
  {
   "cell_type": "markdown",
   "id": "86568d01-4fc1-45d0-9bad-3a4ab5b72d86",
   "metadata": {},
   "source": [
    "## Response to oscillating input"
   ]
  },
  {
   "cell_type": "markdown",
   "id": "5221e84b-aa57-41fa-8b31-38bdf5d09c5d",
   "metadata": {},
   "source": [
    "The code below models and plots the evolution of a neuron's membrane potential injected with a transient input current."
   ]
  },
  {
   "cell_type": "code",
   "execution_count": null,
   "id": "aa27b19a-10dc-428d-838f-10f86334bfca",
   "metadata": {},
   "outputs": [],
   "source": [
    "# Simulation of LIF neuron receiving oscillatory input\n",
    "V0 = Vr\n",
    "V, time = [V0], [0]\n",
    "max_time = 100\n",
    "\n",
    "I0, omega = 400, .5\n",
    "I = 2*I0*np.cos(omega*np.arange(0, max_time, dt))\n",
    "\n",
    "for i in range(int(max_time/dt)-1):\n",
    "    V_next = #___\n",
    "    \n",
    "    if V_next > Vth: \n",
    "        V_next = #___\n",
    "        V.append(Vth+20) \n",
    "        time.append(i*dt)  \n",
    "        \n",
    "    V.append(V_next)\n",
    "    time.append(i*dt)\n",
    "\n",
    "A, phi = #___, ___\n",
    "\n",
    "fig, ax = plt.subplots(2, 1, figsize=(12,4), sharex=True)\n",
    "\n",
    "ax[0].set_title('LIF with oscillatory input')\n",
    "ax[0].plot(time, I, c=c[1])\n",
    "ax[0].set_ylabel('input current')\n",
    "\n",
    "ax[1].plot(time, V, linestyle='--', c=c[0], label='$V(t)$')\n",
    "ax[1].plot(time, El+2*A*np.cos(omega*np.array(time)+phi), linestyle='--', c=c[2], label='$V^{ss}(t)$') # steady-state solution\n",
    "ax[1].set_ylabel('voltage')\n",
    "ax[1].set_xlabel('time (ms)')\n",
    "ax[1].legend(loc='upper right')\n",
    "plt.show()"
   ]
  },
  {
   "cell_type": "markdown",
   "id": "19dba2a8-fe72-40d6-8ae4-b1256b1098f5",
   "metadata": {},
   "source": [
    "### Low-pass filtering"
   ]
  },
  {
   "cell_type": "code",
   "execution_count": null,
   "id": "bc6cf72d-6537-4939-921b-1da218c9aaf1",
   "metadata": {},
   "outputs": [],
   "source": [
    "V0 = Vr\n",
    "V, time = [V0], [0]\n",
    "max_time = 100\n",
    "\n",
    "I0, omega = 400, 10\n",
    "I = 2*I0*np.cos(omega*np.arange(0, max_time, dt))\n",
    "\n",
    "for i in range(int(max_time/dt)-1):\n",
    "    V_next = #___\n",
    "    \n",
    "    if V_next > Vth: \n",
    "        V_next = #___\n",
    "        V.append(Vth+20) \n",
    "        time.append(i*dt)  \n",
    "        \n",
    "    V.append(V_next)\n",
    "    time.append(i*dt)\n",
    "\n",
    "A, phi = #___, ___\n",
    "\n",
    "plt.figure(figsize=(12,2))\n",
    "plt.title('Low-pass filter behaviour')\n",
    "plt.plot(time, V, linestyle='-', c=c[0], label='V(t)')\n",
    "plt.ylabel('voltage')\n",
    "plt.xlabel('time (ms)')\n",
    "plt.legend(loc='lower right')\n",
    "plt.show()"
   ]
  },
  {
   "cell_type": "markdown",
   "id": "70602936-704d-4e36-afd3-6fb101977d44",
   "metadata": {},
   "source": [
    "# Modified LIF neurons"
   ]
  },
  {
   "cell_type": "markdown",
   "id": "517fbaed-cb9a-47b5-91ab-e24bf2f4f250",
   "metadata": {},
   "source": [
    "We now consider the more simple ODE describing the neuron's voltage dynamics\n",
    "$$ \\tau_m \\frac{dV(t)}{dt} = -V(t) + I. $$\n",
    "\n",
    "In what follows, we will add more realism to the previously studied LIF model by adding:\n",
    "- a refractory period,\n",
    "- firing rate adaptation."
   ]
  },
  {
   "cell_type": "markdown",
   "id": "2c84c7c3-097f-4dbd-a84a-0f3cd7268b63",
   "metadata": {},
   "source": [
    "Again, we begin by setting the constants:"
   ]
  },
  {
   "cell_type": "code",
   "execution_count": 9,
   "id": "395ca3d9-d867-4e28-95d9-e68a414eed10",
   "metadata": {},
   "outputs": [],
   "source": [
    "# General constants\n",
    "Cm, gl = 100, 10\n",
    "taum = Cm/gl\n",
    "Vr, Vth = 0, 20\n",
    "dt = 0.01"
   ]
  },
  {
   "cell_type": "markdown",
   "id": "bfa76bc6-e3a3-417a-9a8e-b02583573352",
   "metadata": {},
   "source": [
    "## Refractory period"
   ]
  },
  {
   "cell_type": "markdown",
   "id": "ec5b9779-4b32-4419-97d5-3ea889b66769",
   "metadata": {},
   "source": [
    "The code below models a LIF neuron with a refractory period (ref_period)."
   ]
  },
  {
   "cell_type": "code",
   "execution_count": null,
   "id": "4ff8791f-644f-4701-bedc-379705441019",
   "metadata": {},
   "outputs": [],
   "source": [
    "# LIF ODE\n",
    "def df(x, I):\n",
    "    return #___\n",
    "\n",
    "# Euler scheme\n",
    "def euler(x, I):\n",
    "    return #___\n",
    "\n",
    "V0 = Vr\n",
    "V, time = [V0], [0]\n",
    "I = 25\n",
    "max_time = 140\n",
    "\n",
    "ref_period = 10\n",
    "ref_period_countdown = 0\n",
    "\n",
    "for i in range(int(max_time/dt)-1):\n",
    "    V_next = #___\n",
    "    \n",
    "    if V_next > Vth: \n",
    "        V_next = #___\n",
    "        V.append(Vth+20) \n",
    "        time.append(i*dt) \n",
    "        ref_period_countdown = #___\n",
    "        \n",
    "    if ref_period_countdown > 0:\n",
    "        V.append(Vr)\n",
    "        time.append(i*dt)\n",
    "        ref_period_countdown -= 1\n",
    "        \n",
    "    else:\n",
    "        V.append(V_next)\n",
    "        time.append(i*dt)\n",
    "\n",
    "plt.figure(figsize=(12,2))\n",
    "plt.title('LIF neuron with refractory period')\n",
    "plt.xlabel('time (ms)')\n",
    "plt.ylabel('voltage')\n",
    "plt.plot(time, V, label='V(t)', c=c[2])\n",
    "plt.legend(loc='upper right')\n",
    "plt.show()"
   ]
  },
  {
   "cell_type": "markdown",
   "id": "b6ed2ccd-3c68-4465-ad0f-8138bbac1774",
   "metadata": {},
   "source": [
    "## Firing rate adaptation"
   ]
  },
  {
   "cell_type": "markdown",
   "id": "b6501b3d-116a-4ce6-bb17-80358d0d0cf9",
   "metadata": {},
   "source": [
    "We model a LIF with firing rate adaptation through the following ODE\n",
    "$$ \\tau_m \\frac{dV(t)}{dt} = -V(t) - W(t) + I, $$\n",
    "where $W$ models the adaptation. After a spike, $W$ is incremented by $W_R$ and decays back to zero with time constant $\\tau_w$ as such\n",
    "$$ \\tau_w \\frac{dW(t)}{dt} = -W(t). $$"
   ]
  },
  {
   "cell_type": "markdown",
   "id": "5fc554a4-9e80-49e8-b06e-7a2f6e7e34ea",
   "metadata": {},
   "source": [
    "## Neglecting decay"
   ]
  },
  {
   "cell_type": "markdown",
   "id": "5a65dbe2-e9c8-4956-9cfc-886e635bbece",
   "metadata": {},
   "source": [
    "We start by considering that $W$ is constant between spikes. The following code takes firing rate adaptation into account in the previously studied LIF - we will plot a neuron with versus without adaptation so that we can compare the two."
   ]
  },
  {
   "cell_type": "code",
   "execution_count": null,
   "id": "08680aea-30bf-483a-81dc-994c02e88793",
   "metadata": {},
   "outputs": [],
   "source": [
    "# LIF ODE with adaptation\n",
    "def df(x, w, I):\n",
    "    return #___\n",
    "\n",
    "# Euler scheme\n",
    "def euler(x, w, I):\n",
    "    return #___\n",
    "\n",
    "V0 = Vr\n",
    "V_adapt, time_adapt = [V0], [0]\n",
    "V, time = [V0], [0]\n",
    "I = 25\n",
    "max_time = 140\n",
    "W0, WR = 0, 1\n",
    "W = [W0]\n",
    "\n",
    "for i in range(int(max_time/dt)-1):\n",
    "    # with adaptation\n",
    "    Vadapt_next = #___\n",
    "    \n",
    "    if Vadapt_next > Vth: \n",
    "        Vadapt_next = #___\n",
    "        W.append(#___)\n",
    "        V_adapt.append(Vth+20) \n",
    "        time_adapt.append(i*dt) \n",
    "        \n",
    "    V_adapt.append(Vadapt_next)\n",
    "    W.append(W[-1])\n",
    "    time_adapt.append(i*dt)\n",
    "\n",
    "    # without adaptation\n",
    "    V_next = #___\n",
    "    \n",
    "    if V_next > Vth: \n",
    "        V_next = #___\n",
    "        V.append(Vth+20) \n",
    "        time.append(i*dt) \n",
    "        \n",
    "    V.append(V_next)\n",
    "    time.append(i*dt)\n",
    "\n",
    "plt.figure(figsize=(12,2))\n",
    "plt.title('LIF neuron with vs without adapation')\n",
    "plt.xlabel('time (ms)')\n",
    "plt.ylabel('voltage')\n",
    "plt.plot(time_adapt, V_adapt, label='adapt.', zorder=10, c=c[1]) \n",
    "plt.plot(time, V, label='no adapt.', c=c[2])\n",
    "plt.legend(loc='upper right')\n",
    "plt.show()"
   ]
  },
  {
   "cell_type": "markdown",
   "id": "70933c83-5a49-4887-9628-cc562d3e487f",
   "metadata": {},
   "source": [
    "As seen durig the tutorial, the model stops spiking after $W$ reaches a certain value. The following code shows that as $W$ increases, the steady-state value $V^*$ until it is below threshold $V_{th},$ causing the neuron to stop spiking. "
   ]
  },
  {
   "cell_type": "code",
   "execution_count": null,
   "id": "46d2dd76-2960-44a7-ae13-630d3586b8f2",
   "metadata": {},
   "outputs": [],
   "source": [
    "max_time = 130\n",
    "WR = 2\n",
    "\n",
    "V0 = Vr\n",
    "V, time = [V0], [0]\n",
    "W = [W0]\n",
    "\n",
    "for i in range(int(max_time/dt)-1):\n",
    "    V_next = euler(V[-1], W[-1], I)\n",
    "    \n",
    "    if V_next > Vth: \n",
    "        V_next = Vr\n",
    "        W.append(#___)\n",
    "        V.append(Vth+15) \n",
    "        time.append(i*dt)  \n",
    "        \n",
    "    V.append(V_next)\n",
    "    W.append(W[-1])\n",
    "    time.append(i*dt)\n",
    "\n",
    "plt.figure(figsize=(12,2))\n",
    "plt.xlabel('time (ms)')\n",
    "plt.ylabel('voltage')\n",
    "plt.title('LIF with adaptation')\n",
    "plt.plot(time, V, label='$V(t)$', c=c[1])\n",
    "plt.plot(time, np.array([Vth for el in V]), label='$V_{th}$', linestyle=':', c=c[3])\n",
    "plt.plot(time, np.array([I for el in V])-W, label='$V^*$', linestyle=':', c=c[2])\n",
    "plt.plot(time, W, label='$W$', linestyle=':', c=c[0])\n",
    "plt.legend(loc='upper right')\n",
    "plt.show()"
   ]
  },
  {
   "cell_type": "markdown",
   "id": "5b064fc3-aae0-478c-b76f-b693a57a3a1d",
   "metadata": {},
   "source": [
    "## Taking decay into account"
   ]
  },
  {
   "cell_type": "markdown",
   "id": "d4a0c427-ec60-4edb-a13c-b22c6ced47e8",
   "metadata": {},
   "source": [
    "The following code models a LIF with decaying adaptation."
   ]
  },
  {
   "cell_type": "code",
   "execution_count": null,
   "id": "56aeac64-01e2-4329-a644-928c869d796f",
   "metadata": {},
   "outputs": [],
   "source": [
    "# Adaptation time constant\n",
    "tauw = 10\n",
    "\n",
    "# LIF ODE with adaptation\n",
    "def df(x, w, I):\n",
    "    return #___\n",
    "\n",
    "# Euler scheme for V\n",
    "def euler_v(x, w, I):\n",
    "    return #___\n",
    "\n",
    "# Euler scheme for W\n",
    "def euler_w(w):\n",
    "    return #___\n",
    "    \n",
    "V0 = Vr\n",
    "V, time = [V0], [0]\n",
    "\n",
    "max_time = 100\n",
    "W0, WR = 1, 10\n",
    "W = [W0]\n",
    "\n",
    "for i in range(int(max_time/dt)-1):\n",
    "    # with adaptation\n",
    "    V_next = #___\n",
    "    W_next = euler_w(W[-1])\n",
    "    \n",
    "    if V_next > Vth: \n",
    "        V_next = #___\n",
    "        W_next = #___\n",
    "        \n",
    "        # Modeling the spike term\n",
    "        V.append(Vth+20) \n",
    "        W.append(W[-1])\n",
    "        time.append(i*dt) \n",
    "        \n",
    "    V.append(V_next)\n",
    "    W.append(#___)\n",
    "    time.append(i*dt)\n",
    "\n",
    "plt.figure(figsize=(12,2))\n",
    "plt.title('LIF neuron with decaying adapation')\n",
    "plt.xlabel('time (ms)')\n",
    "plt.ylabel('voltage')\n",
    "plt.plot(time, V, label='V', zorder=10, c=c[1]) \n",
    "plt.plot(time, W, label='W', c=c[2])\n",
    "plt.legend(loc='upper right')\n",
    "plt.show()"
   ]
  }
 ],
 "metadata": {
  "kernelspec": {
   "display_name": "Python 3 (ipykernel)",
   "language": "python",
   "name": "python3"
  },
  "language_info": {
   "codemirror_mode": {
    "name": "ipython",
    "version": 3
   },
   "file_extension": ".py",
   "mimetype": "text/x-python",
   "name": "python",
   "nbconvert_exporter": "python",
   "pygments_lexer": "ipython3",
   "version": "3.12.5"
  }
 },
 "nbformat": 4,
 "nbformat_minor": 5
}
