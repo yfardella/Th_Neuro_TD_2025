{
 "cells": [
  {
   "cell_type": "markdown",
   "id": "b08c4d1a-ee49-4b93-9560-25c268f18ee6",
   "metadata": {},
   "source": [
    "# Poissonian spike trains"
   ]
  },
  {
   "cell_type": "markdown",
   "id": "86817f4f-8854-4a05-8838-2f53cca1e357",
   "metadata": {},
   "source": [
    "We consider that neurons emit spikes randomly - we will therefore implement a model that creates artificial, random spike trains. As seen during the tutorial, we can use a Poisson Process $\\{N(t) | t \\in \\mathbb{R} \\}$ to model this phenomena. The probability of observing $n$ spikes during a duration $T$ is\n",
    "$$ \\mathbb{P}(N(T)=n) = \\frac{(\\lambda T)^n}{n!} e^{-\\lambda T}, \\text{ with $\\lambda$ the mean rate of spike occurences.} $$\n",
    "Within a small time bin $\\Delta T$, the probability of a spike $X \\in \\{0,1\\}$ occuring follows a Binomial distribution $X \\sim \\mathcal{B}(\\lambda \\Delta T).$"
   ]
  },
  {
   "cell_type": "markdown",
   "id": "40dd0887-56dc-4561-bd66-b75419d41ff2",
   "metadata": {},
   "source": [
    "We begin by importing the necessary libraries:"
   ]
  },
  {
   "cell_type": "code",
   "execution_count": 4,
   "id": "7c141532-31af-4895-9cb4-a850d90619d2",
   "metadata": {},
   "outputs": [],
   "source": [
    "# Import libraries\n",
    "import matplotlib.pyplot as plt\n",
    "import numpy as np\n",
    "import random as rand\n",
    "from scipy.stats import poisson\n",
    "import warnings\n",
    "warnings.filterwarnings('ignore')\n",
    "\n",
    "plt.logging.getLogger('matplotlib.font_manager').disabled = True\n",
    "\n",
    "c = colors = plt.cm.plasma(np.linspace(0,1,6))\n",
    "\n",
    "plt.rc('font', size=12)          # controls default text sizes\n",
    "plt.rc('axes', titlesize=16)     # fontsize of the axes title\n",
    "plt.rc('axes', labelsize=14)     # fontsize of the axes labels\n",
    "plt.rc('xtick', labelsize=14)    # fontsize of the tick labels\n",
    "plt.rc('ytick', labelsize=14)    # fontsize of the tick labels\n",
    "plt.rc('legend', fontsize=12)    # legend fontsize\n",
    "plt.rc('figure', titlesize=16)   # fontsize of the figure title\n",
    "plt.rc('lines', linewidth=2)     # linewidths of all plots set to 2\n",
    "\n",
    "%matplotlib inline"
   ]
  },
  {
   "cell_type": "markdown",
   "id": "ae6aa37e-3c22-4821-94d6-9eee227d2740",
   "metadata": {},
   "source": [
    "And defining the colourset for the plots:"
   ]
  },
  {
   "cell_type": "code",
   "execution_count": 3,
   "id": "6620fa08-864f-4475-8e4b-57841d9c780c",
   "metadata": {},
   "outputs": [],
   "source": [
    "def RGB_gradient(color1, color2,steps):\n",
    "    output = []\n",
    "    r, g, b = color1[0], color1[1], color1[2]\n",
    "    rdelta, gdelta, bdelta = (color2[0]-color1[0])/steps, (color2[1]-color1[1])/steps, (color2[2]-color1[2])/steps\n",
    "    for step in range(steps):\n",
    "        r += rdelta\n",
    "        g += gdelta\n",
    "        b += bdelta\n",
    "        output.append((abs(r), abs(g), abs(b)))\n",
    "    return output\n",
    "\n",
    "red, blue, green, purple = (235/255,60/255,94/255),(86/255,204/255,242/255),(111/255,207/255,151/255),(182/255,111/255,207/255)\n",
    "yellow, orange, rose = (255/255,223/255,107/255),(249/255,146/255,27/255),(249/255,159/255,238/255)"
   ]
  },
  {
   "cell_type": "markdown",
   "id": "81024429-c289-4487-a7c6-0603a4b53596",
   "metadata": {},
   "source": [
    "## Generating random spikes"
   ]
  },
  {
   "cell_type": "markdown",
   "id": "610bbb9c-de57-4a45-851b-becaffa6f387",
   "metadata": {},
   "source": [
    "We consider a neuron spiking with an average rate of $\\lambda = 25$ spikes per second. We set the time bin $\\Delta T = 2$ms. This means that we have on average $0.05$ spikes per $2$ms. The following code generates the raster plot of this neuron over the time course of $T=1$s."
   ]
  },
  {
   "cell_type": "code",
   "execution_count": null,
   "id": "b4d74394-9cc7-4730-aad2-3596d2ecebd8",
   "metadata": {},
   "outputs": [],
   "source": [
    "# We create an empty array that will store the spike events over 1000ms = 1s\n",
    "spiketimes = np.zeros(1000)\n",
    "\n",
    "# We descritise the time into M time bins of length 2ms\n",
    "M = int(len(spiketimes)/2)\n",
    "\n",
    "for k in range(M) :\n",
    "    if : #___\n",
    "        #___\n",
    "\n",
    "# Raster plot parameters\n",
    "plt.figure(figsize=(12,2))\n",
    "plt.eventplot(np.where(spiketimes > 0), orientation='horizontal', color=purple, linewidths=2.5)\n",
    "\n",
    "plt.ylim(.45,1.55)\n",
    "plt.yticks([])\n",
    "\n",
    "plt.xticks([k*100 for k in range(11)], [k*100/1000 for k in range(11)])\n",
    "plt.xlabel('time (in s)')\n",
    "\n",
    "plt.show()"
   ]
  },
  {
   "cell_type": "markdown",
   "id": "a300c656-0783-48a0-a21c-b7a296203386",
   "metadata": {},
   "source": [
    "We now run the previous simulation over $1000$ trials and plot the first $10$ trials as a raster plot. We will keep track of the number of neurons that spiked during each trial as well as all the ISI."
   ]
  },
  {
   "cell_type": "code",
   "execution_count": null,
   "id": "d43dae9b-18bf-4f05-936b-2e038ed636a4",
   "metadata": {},
   "outputs": [],
   "source": [
    "col = RGB_gradient(purple, red, 50)\n",
    "plt.figure(figsize=(12,4))\n",
    "N = 2000\n",
    "Time = 1000\n",
    "M = int(Time/2)\n",
    "\n",
    "data = []\n",
    "time_intervals = []\n",
    "for s in range(N) :\n",
    "    spiketimes = np.zeros(Time)\n",
    "    time_last_spike = 0\n",
    "    for k in range(M) :\n",
    "        if  : #___\n",
    "            #___\n",
    "            #___\n",
    "            #___\n",
    "    #___\n",
    "\n",
    "# We plot a raster plot of the first 10 trials\n",
    "plt.eventplot(data[:10], colors=RGB_gradient(purple,red,10), linewidths=2.4)\n",
    "\n",
    "# Raster plot parameters\n",
    "plt.xticks([k*100 for k in range(11)], [k/10 for k in range(11)])\n",
    "plt.yticks([0,9,19,29,39,49],[1,10,20,30,40,50])\n",
    "plt.ylim(-1,10)\n",
    "plt.xlim(-10,1010)\n",
    "plt.xlabel('time (in s)')\n",
    "plt.ylabel('trial number')\n",
    "plt.show()"
   ]
  },
  {
   "cell_type": "markdown",
   "id": "5d3c1efb-48e4-4c53-981b-d4fdca77d1d2",
   "metadata": {},
   "source": [
    "We then plot these results in the form of a histogram. This will allow us to compare with the probability mass function (PMF) of a Poisson distribution of parameter $\\lambda T$, with $\\lambda=25$ and $T=1$s."
   ]
  },
  {
   "cell_type": "code",
   "execution_count": null,
   "id": "360d4c93-8991-4538-8add-4953bce237a0",
   "metadata": {},
   "outputs": [],
   "source": [
    "count = []\n",
    "for el in data :\n",
    "    count += [len(el)]\n",
    "\n",
    "count = np.array(count)\n",
    "plt.figure(figsize=(12,6))\n",
    "\n",
    "# Computing the histogram\n",
    "lb, ub = min(count)-2, max(count)+2\n",
    "num_bins = ub-lb\n",
    "hist, bin_edges = np.histogram(count, bins=num_bins, range=(lb, ub), density=True)\n",
    "width = (bin_edges[1] - bin_edges[0])\n",
    "\n",
    "# Plotting the spike count histogram\n",
    "plt.bar(bin_edges[:-1], hist, align='center', width=width, edgecolor='k', color=purple, label='Simulation')\n",
    "plt.xticks(range(lb,ub))\n",
    "plt.xlim([lb-width/2, ub-width/2])\n",
    "\n",
    "# Generation of Poisson PMF using scipy.stats\n",
    "mu = 25\n",
    "x = np.arange(poisson.ppf(0.001, mu), poisson.ppf(0.999, mu))\n",
    "plt.plot(x, poisson.pmf(x, mu), 'bo', ms=8, label='Poisson PMF')\n",
    "plt.vlines(x, 0, poisson.pmf(x, mu), colors='b', lw=5, alpha=0.5, label=None)\n",
    "\n",
    "plt.xlabel('Number of spikes $n$')\n",
    "plt.ylabel('Probability Mass Function')\n",
    "plt.xlim(10, 45)\n",
    "plt.legend()\n",
    "plt.show()"
   ]
  },
  {
   "cell_type": "markdown",
   "id": "5633561a-bc89-499b-a3f9-2f5b2df531d8",
   "metadata": {},
   "source": [
    "Finally, we make sure the simulated ISIs follow an exponantial distribution by comparing it to the probability density function of an exponantial distribution of parameter $\\lambda$. "
   ]
  },
  {
   "cell_type": "code",
   "execution_count": null,
   "id": "84af8c4a-222c-4443-a65b-49b231a5532f",
   "metadata": {},
   "outputs": [],
   "source": [
    "plt.figure(figsize=(12,6))\n",
    "lb, ub = np.amin(time_intervals), np.amax(time_intervals)\n",
    "hist, bin_edges = np.histogram(time_intervals, bins=32, range=(lb, ub), density=True)\n",
    "\n",
    "# Plotting ISI histogram\n",
    "plt.bar(bin_edges[:-1], hist, align='edge', width=8, edgecolor='k', color=purple, label='Simulation')\n",
    "plt.xlim([(lb-width/2)-1, 300])\n",
    "\n",
    "# Generation of exponential PDF\n",
    "t = np.linspace(0,300,1001)\n",
    "y = 0.025*np.exp(-0.025*t)\n",
    "plt.plot(t,y, linewidth=2, color='blue', label=\"Exponential PDF\")\n",
    "\n",
    "plt.ylabel('Probability Density Function')\n",
    "plt.xlabel('Time (ms)')\n",
    "\n",
    "plt.legend()\n",
    "plt.show()"
   ]
  },
  {
   "cell_type": "markdown",
   "id": "46326e43-7188-4bc6-9e0c-fef04b1c70b9",
   "metadata": {},
   "source": [
    "# Stochastic LIF"
   ]
  },
  {
   "cell_type": "markdown",
   "id": "98059bd1-f35c-4af5-bbc1-c5d718a5d54e",
   "metadata": {},
   "source": [
    "We model a LIF neuron receiving noisy input such that\n",
    "$$ \\frac{dV(t)}{dt} = E_l - V(t) + \\mu + \\sigma \\eta(t),$$\n",
    "where $\\eta(t)$ is a reduced centred white noise as seen during the tutorial. "
   ]
  },
  {
   "cell_type": "markdown",
   "id": "a8eb28bd-d149-44a3-8240-961bf518a1e6",
   "metadata": {},
   "source": [
    "Using the explanations provided in the tutorial on how to numerically implement a stochastic ODE, the following code simulates a LIF neuron receiving noisy input."
   ]
  },
  {
   "cell_type": "code",
   "execution_count": null,
   "id": "cc0f3886-fe35-43c8-b66f-f6560ec51013",
   "metadata": {},
   "outputs": [],
   "source": [
    "# Noisy LIF using Euler's method\n",
    "def integrate_and_fire_noisy(V0, time_steps, mu, sigma, threshold):\n",
    "    # Initial conditions\n",
    "    V = [V0]\n",
    "    t = [0]\n",
    "    for i in range(time_steps) :\n",
    "        if V[-1] >= threshold :\n",
    "            V.append(V0) \n",
    "            t.append(i)\n",
    "        #___\n",
    "        t.append(i)\n",
    "    return np.array(t), np.array(V)"
   ]
  },
  {
   "cell_type": "code",
   "execution_count": null,
   "id": "1544ab68-8358-4863-a60d-79aac5846c46",
   "metadata": {},
   "outputs": [],
   "source": [
    "# Constants\n",
    "dt = 0.01\n",
    "EL = -70\n",
    "Vth = -63\n",
    "\n",
    "# Assigning the variables\n",
    "x, y = integrate_and_fire_noisy(-70, 1000, 7, 8, Vth)\n",
    "\n",
    "# Plots the neuron's voltage\n",
    "plt.figure(figsize=(12,4))\n",
    "plt.plot(x, y, color=purple)\n",
    "\n",
    "# Plots the spike\n",
    "spikes = x[np.where(y >= Vth)[0]]\n",
    "plt.vlines(x = spikes, ymin = Vth, ymax = -58, color = purple, linewidth = 2)\n",
    "\n",
    "plt.xlabel('time (in ms)')\n",
    "plt.ylabel('V(t)')\n",
    "plt.show()"
   ]
  },
  {
   "cell_type": "code",
   "execution_count": null,
   "id": "ab3a881e",
   "metadata": {},
   "outputs": [],
   "source": []
  }
 ],
 "metadata": {
  "kernelspec": {
   "display_name": ".venv",
   "language": "python",
   "name": "python3"
  },
  "language_info": {
   "codemirror_mode": {
    "name": "ipython",
    "version": 3
   },
   "file_extension": ".py",
   "mimetype": "text/x-python",
   "name": "python",
   "nbconvert_exporter": "python",
   "pygments_lexer": "ipython3",
   "version": "3.12.3"
  }
 },
 "nbformat": 4,
 "nbformat_minor": 5
}
